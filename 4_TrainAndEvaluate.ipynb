{
 "cells": [
  {
   "cell_type": "markdown",
   "metadata": {},
   "source": [
    "# Train and Evaluate Models\n",
    "\n",
    "In this notebook XGBoost (logistic) Regressor, and a classic logit model are going to be trained and compared in terms performance against the unbalanced test data set. \n",
    "\n",
    "Varied for analysis:\n",
    "* 20 vs 40 features\n",
    "* Logit vs XGBoost Regressor Model\n",
    "* Heroin score vs accumulated score"
   ]
  },
  {
   "cell_type": "code",
   "execution_count": 11,
   "metadata": {},
   "outputs": [],
   "source": [
    "import numpy as np\n",
    "import pandas as pd"
   ]
  },
  {
   "cell_type": "code",
   "execution_count": 24,
   "metadata": {},
   "outputs": [],
   "source": [
    "df_train40 = pd.read_csv(\"data/train40.tsv\", sep=\"\\t\")\n",
    "X_train40 = df_train40.iloc[:,0:143]\n",
    "y_train40 = df_train40.iloc[:,143:145]\n",
    "\n",
    "df_train20 = pd.read_csv(\"data/train20.tsv\", sep=\"\\t\")\n",
    "X_train20 = df_train20.iloc[:,0:63]\n",
    "y_train20 = df_train20.iloc[:,63:65]"
   ]
  },
  {
   "cell_type": "code",
   "execution_count": 26,
   "metadata": {},
   "outputs": [],
   "source": [
    "df_test40 = pd.read_csv(\"data/test40.tsv\", sep=\"\\t\")\n",
    "X_test40 = df_test40.iloc[:,0:143]\n",
    "y_test40 = df_test40.iloc[:,143:145]\n",
    "\n",
    "df_test20 = pd.read_csv(\"data/test20.tsv\", sep=\"\\t\")\n",
    "X_test20 = df_test20.iloc[:,0:63]\n",
    "y_test20 = df_test20.iloc[:,63:65]"
   ]
  },
  {
   "cell_type": "markdown",
   "metadata": {},
   "source": [
    "## Evaluation Functions\n",
    "\n",
    "Define train & test function for each model"
   ]
  },
  {
   "cell_type": "code",
   "execution_count": 27,
   "metadata": {},
   "outputs": [],
   "source": [
    "from xgboost import XGBRegressor\n",
    "from sklearn.metrics import explained_variance_score, r2_score"
   ]
  },
  {
   "cell_type": "code",
   "execution_count": 28,
   "metadata": {},
   "outputs": [],
   "source": [
    "def trainAndTestXGB(X_train, X_test, y_train, y_test):\n",
    "    model = XGBRegressor(objective=\"reg:logistic\")\n",
    "    model.fit(X_train, y_train)\n",
    "    \n",
    "    y_pred = model.predict(X_test)\n",
    "    r2 = r2_score(y_test, y_pred)\n",
    "    print(\"R Square: \", r2)"
   ]
  },
  {
   "cell_type": "markdown",
   "metadata": {},
   "source": [
    "## Analysis"
   ]
  },
  {
   "cell_type": "code",
   "execution_count": 34,
   "metadata": {},
   "outputs": [
    {
     "name": "stderr",
     "output_type": "stream",
     "text": [
      "/home/osari/dev/venvs/ipyth/lib64/python3.7/site-packages/xgboost/core.py:587: FutureWarning: Series.base is deprecated and will be removed in a future version\n",
      "  if getattr(data, 'base', None) is not None and \\\n",
      "/home/osari/dev/venvs/ipyth/lib64/python3.7/site-packages/xgboost/core.py:588: FutureWarning: Series.base is deprecated and will be removed in a future version\n",
      "  data.base is not None and isinstance(data, np.ndarray) \\\n"
     ]
    },
    {
     "name": "stdout",
     "output_type": "stream",
     "text": [
      "R Square:  -1.2024568115313943\n"
     ]
    }
   ],
   "source": [
    "# 40 features with Total RFD Score\n",
    "trainAndTestXGB(X_train40, X_test40, y_train40.iloc[:,1], y_test40.iloc[:,1])"
   ]
  },
  {
   "cell_type": "code",
   "execution_count": 35,
   "metadata": {},
   "outputs": [
    {
     "name": "stderr",
     "output_type": "stream",
     "text": [
      "/home/osari/dev/venvs/ipyth/lib64/python3.7/site-packages/xgboost/core.py:587: FutureWarning: Series.base is deprecated and will be removed in a future version\n",
      "  if getattr(data, 'base', None) is not None and \\\n",
      "/home/osari/dev/venvs/ipyth/lib64/python3.7/site-packages/xgboost/core.py:588: FutureWarning: Series.base is deprecated and will be removed in a future version\n",
      "  data.base is not None and isinstance(data, np.ndarray) \\\n"
     ]
    },
    {
     "name": "stdout",
     "output_type": "stream",
     "text": [
      "R Square:  -0.22843894469168946\n"
     ]
    }
   ],
   "source": [
    "# 40 features with Heroin RFD Score\n",
    "trainAndTestXGB(X_train40, X_test40, y_train40.iloc[:,0], y_test40.iloc[:,0])"
   ]
  },
  {
   "cell_type": "code",
   "execution_count": 36,
   "metadata": {},
   "outputs": [
    {
     "name": "stderr",
     "output_type": "stream",
     "text": [
      "/home/osari/dev/venvs/ipyth/lib64/python3.7/site-packages/xgboost/core.py:587: FutureWarning: Series.base is deprecated and will be removed in a future version\n",
      "  if getattr(data, 'base', None) is not None and \\\n",
      "/home/osari/dev/venvs/ipyth/lib64/python3.7/site-packages/xgboost/core.py:588: FutureWarning: Series.base is deprecated and will be removed in a future version\n",
      "  data.base is not None and isinstance(data, np.ndarray) \\\n"
     ]
    },
    {
     "name": "stdout",
     "output_type": "stream",
     "text": [
      "R Square:  -1.103034303423736\n"
     ]
    }
   ],
   "source": [
    "# 20 features with Total RFD Score\n",
    "trainAndTestXGB(X_train20, X_test20, y_train20.iloc[:,1], y_test20.iloc[:,1])"
   ]
  },
  {
   "cell_type": "code",
   "execution_count": 38,
   "metadata": {},
   "outputs": [
    {
     "name": "stderr",
     "output_type": "stream",
     "text": [
      "/home/osari/dev/venvs/ipyth/lib64/python3.7/site-packages/xgboost/core.py:587: FutureWarning: Series.base is deprecated and will be removed in a future version\n",
      "  if getattr(data, 'base', None) is not None and \\\n",
      "/home/osari/dev/venvs/ipyth/lib64/python3.7/site-packages/xgboost/core.py:588: FutureWarning: Series.base is deprecated and will be removed in a future version\n",
      "  data.base is not None and isinstance(data, np.ndarray) \\\n"
     ]
    },
    {
     "name": "stdout",
     "output_type": "stream",
     "text": [
      "R Square:  -0.23149066527584594\n"
     ]
    }
   ],
   "source": [
    "# 20 features with Heroin RFD Score\n",
    "trainAndTestXGB(X_train20, X_test20, y_train20.iloc[:,0], y_test20.iloc[:,0])"
   ]
  }
 ],
 "metadata": {
  "kernelspec": {
   "display_name": "Python 3",
   "language": "python",
   "name": "python3"
  },
  "language_info": {
   "codemirror_mode": {
    "name": "ipython",
    "version": 3
   },
   "file_extension": ".py",
   "mimetype": "text/x-python",
   "name": "python",
   "nbconvert_exporter": "python",
   "pygments_lexer": "ipython3",
   "version": "3.7.3"
  }
 },
 "nbformat": 4,
 "nbformat_minor": 2
}
