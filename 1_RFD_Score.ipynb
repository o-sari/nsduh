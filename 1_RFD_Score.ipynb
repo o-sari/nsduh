{
 "cells": [
  {
   "cell_type": "markdown",
   "metadata": {},
   "source": [
    "# RFD Score \n",
    "\n",
    "Recency, Frequency & Duration of drug abuse\n",
    "\n",
    "In this notebook RFD Scores are generated for Heroin consumption and aggregated Drug consumption (Heroin, Meth, Crack)"
   ]
  },
  {
   "cell_type": "code",
   "execution_count": null,
   "metadata": {},
   "outputs": [],
   "source": [
    "import numpy as np\n",
    "import pandas as pd"
   ]
  },
  {
   "cell_type": "code",
   "execution_count": 8,
   "metadata": {},
   "outputs": [
    {
     "name": "stderr",
     "output_type": "stream",
     "text": [
      "/Users/Robert/miniconda3/envs/stan/lib/python3.7/site-packages/IPython/core/interactiveshell.py:3049: DtypeWarning: Columns (2514) have mixed types. Specify dtype option on import or set low_memory=False.\n",
      "  interactivity=interactivity, compiler=compiler, result=result)\n"
     ]
    },
    {
     "data": {
      "text/plain": [
       "(57146, 2679)"
      ]
     },
     "execution_count": 8,
     "metadata": {},
     "output_type": "execute_result"
    }
   ],
   "source": [
    "df = pd.read_csv(\"data/NSDUH_2015_Tab.tsv.gz\", sep=\"\\t\", compression=\"gzip\")\n",
    "df.shape"
   ]
  },
  {
   "cell_type": "markdown",
   "metadata": {},
   "source": [
    "## RFD Function\n",
    "\n",
    "Universal function is provided with column names, returns drug abuse probability in [0,1]"
   ]
  },
  {
   "cell_type": "code",
   "execution_count": 52,
   "metadata": {},
   "outputs": [],
   "source": [
    "from sklearn.preprocessing import minmax_scale"
   ]
  },
  {
   "cell_type": "code",
   "execution_count": 61,
   "metadata": {},
   "outputs": [],
   "source": [
    "def rfd(df, r_col, f_col, d_col, evr_col):\n",
    "    '''\n",
    "    Requires dataframe and column names for recency, frequency and duration \n",
    "    source columns of data source\n",
    "    '''        \n",
    "    \n",
    "    # Recency\n",
    "    recency_score = []\n",
    "    recency = df[r_col]\n",
    "    for i in range(len(recency)):\n",
    "        x = recency[i]\n",
    "        if x == 1 or x == 11:\n",
    "            rec_factor = 1\n",
    "        elif x == 2 or x == 8:\n",
    "            rec_factor = 0.5\n",
    "        else:\n",
    "            rec_factor = 0.2\n",
    "        recency_score.append(rec_factor)\n",
    "        \n",
    "    \n",
    "    # Frequency\n",
    "    freq_score = []\n",
    "    frequency = df[f_col]\n",
    "    \n",
    "\n",
    "    for i in range(len(frequency)):\n",
    "        if frequency[i] in range(1,366):\n",
    "            freq_score.append(frequency[i])\n",
    "        else:\n",
    "            freq_score.append(0)\n",
    "\n",
    "    freq_score_mapped = np.interp(freq_score,\n",
    "                                  (np.min(freq_score),\n",
    "                                   np.max(freq_score)),\n",
    "                                  (0.3,1))\n",
    "    \n",
    "    \n",
    "    # Duration\n",
    "    duration = np.array(2015-df[d_col])\n",
    "    duration_normalized = minmax_scale(duration)\n",
    "\n",
    "    duration_mapped = np.interp(duration_normalized, \n",
    "                                (np.min(duration_normalized),\n",
    "                                 np.max(duration_normalized)),\n",
    "                                (0.3,1))\n",
    "    \n",
    "    \n",
    "    # Finally, compute RFD Score, return column\n",
    "    rfd_score = []\n",
    "    for i in range(len(recency_score)):\n",
    "        \n",
    "        if df[evr_col][i] != 1:\n",
    "            rfd_score.append(0)\n",
    "            continue\n",
    "            \n",
    "        R = recency_score[i]\n",
    "        F = freq_score_mapped[i]\n",
    "        D = duration_mapped[i]\n",
    "        if R == .2 and F <= .35:\n",
    "            RFD = R * ((F*6/5)-(D*1/5))\n",
    "        else:\n",
    "            RFD = R * ((F*6/5)+(D*1/5))\n",
    "        if RFD < 1:\n",
    "            rfd_score.append(RFD)\n",
    "        else:\n",
    "            rfd_score.append(1)\n",
    "\n",
    "    \n",
    "    return rfd_score\n",
    "\n"
   ]
  },
  {
   "cell_type": "markdown",
   "metadata": {},
   "source": [
    "## Calculate scores\n",
    "\n",
    "We calculate score per each drug (Heroin, Meth, Crack) and aggregate a total score"
   ]
  },
  {
   "cell_type": "code",
   "execution_count": 66,
   "metadata": {},
   "outputs": [],
   "source": [
    "rfd_her = rfd(df, 'HERREC','HERYRTOT', 'IRHERYFU', 'HEREVER')\n",
    "rfd_mth = rfd(df, 'METHAMREC','METHAMYFQ', 'IRMETHAMYFU', 'METHAMEVR')\n",
    "rfd_crk = rfd(df, 'CRAKREC','CRKYRTOT', 'IRCRKYFU', 'CRKEVER')"
   ]
  },
  {
   "cell_type": "code",
   "execution_count": 68,
   "metadata": {},
   "outputs": [],
   "source": [
    "rfd_tot = []\n",
    "for i in range(len(rfd_her)):\n",
    "    total = rfd_her[i] + rfd_mth[i] + rfd_crk[i]\n",
    "    if total > 1:\n",
    "        total = 1\n",
    "    rfd_tot.append(total)  "
   ]
  },
  {
   "cell_type": "markdown",
   "metadata": {},
   "source": [
    "## Export results\n",
    "\n",
    "We ditch single heroin and crack scores, as we only analyse them in the aggregate score"
   ]
  },
  {
   "cell_type": "code",
   "execution_count": 71,
   "metadata": {},
   "outputs": [],
   "source": [
    "df['HERRFD'] = rfd_her\n",
    "df['TOTRFD'] = rfd_tot"
   ]
  },
  {
   "cell_type": "code",
   "execution_count": 72,
   "metadata": {},
   "outputs": [],
   "source": [
    "df.to_csv(\"data/NSDUH_2015_RFD_Tab.tsv.gz\", sep=\"\\t\", compression=\"gzip\")"
   ]
  }
 ],
 "metadata": {
  "kernelspec": {
   "display_name": "Python 3",
   "language": "python",
   "name": "python3"
  },
  "language_info": {
   "codemirror_mode": {
    "name": "ipython",
    "version": 3
   },
   "file_extension": ".py",
   "mimetype": "text/x-python",
   "name": "python",
   "nbconvert_exporter": "python",
   "pygments_lexer": "ipython3",
   "version": "3.7.2"
  }
 },
 "nbformat": 4,
 "nbformat_minor": 2
}
