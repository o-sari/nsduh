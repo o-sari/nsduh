{
 "cells": [
  {
   "cell_type": "code",
   "execution_count": 2,
   "metadata": {},
   "outputs": [],
   "source": [
    "import pandas as pd\n",
    "import numpy as np"
   ]
  },
  {
   "cell_type": "code",
   "execution_count": 3,
   "metadata": {},
   "outputs": [
    {
     "name": "stderr",
     "output_type": "stream",
     "text": [
      "/home/osari/dev/venvs/ipyth/lib64/python3.7/site-packages/IPython/core/interactiveshell.py:3049: DtypeWarning: Columns (2514) have mixed types. Specify dtype option on import or set low_memory=False.\n",
      "  interactivity=interactivity, compiler=compiler, result=result)\n"
     ]
    }
   ],
   "source": [
    "\n",
    "df = pd.read_csv('NSDUH_2015_Tab.tsv', sep='\\t')"
   ]
  },
  {
   "cell_type": "code",
   "execution_count": 4,
   "metadata": {},
   "outputs": [],
   "source": [
    "features = pd.read_excel('clean_vars.xlsx')"
   ]
  },
  {
   "cell_type": "code",
   "execution_count": 5,
   "metadata": {},
   "outputs": [],
   "source": [
    "var_list = np.array(features['vars'])\n",
    "axes = np.array(df.axes[1])\n",
    "rm_col_index = [item for item in axes if item not in var_list]\n"
   ]
  },
  {
   "cell_type": "code",
   "execution_count": 6,
   "metadata": {},
   "outputs": [],
   "source": [
    "df = df.drop(columns=rm_col_index)\n",
    "df0 = df"
   ]
  },
  {
   "cell_type": "code",
   "execution_count": 30,
   "metadata": {},
   "outputs": [],
   "source": [
    "def nanReplacer(array,vals_to_replace,new_val):\n",
    "    vals = []\n",
    "    for i in range(len(array)):\n",
    "        if array[i] in vals_to_replace:\n",
    "            vals.append(new_val)\n",
    "        else:\n",
    "            vals.append(array[i])\n",
    "    return vals"
   ]
  },
  {
   "cell_type": "code",
   "execution_count": 31,
   "metadata": {},
   "outputs": [],
   "source": [
    "def onehot(cat_df, prefix):\n",
    "    dummy_df = pd.get_dummies(cat_df,prefix=prefix)\n",
    "    return dummy_df"
   ]
  },
  {
   "cell_type": "code",
   "execution_count": 8,
   "metadata": {},
   "outputs": [
    {
     "data": {
      "text/plain": [
       "Index(['CIGFLAG', 'CIGYR', 'CIGMON', 'CGRFLAG', 'CGRYR', 'CGRMON', 'PIPFLAG',\n",
       "       'PIPMON', 'SMKLSSFLAG', 'SMKLSSYR', 'SMKLSSMON', 'ALCFLAG', 'ALCYR',\n",
       "       'ALCMON', 'PNRANYFLAG', 'PNRANYYR', 'OXYCNANYYR', 'TRQANYFLAG',\n",
       "       'TRQANYYR', 'STMANYFLAG'],\n",
       "      dtype='object')"
      ]
     },
     "execution_count": 8,
     "metadata": {},
     "output_type": "execute_result"
    }
   ],
   "source": [
    "df0.axes[1][:20]\n",
    "\n",
    "\"\"\"\n",
    "\n",
    "these are ok. all 1,0\n",
    "\n",
    "\"\"\"\n"
   ]
  },
  {
   "cell_type": "code",
   "execution_count": 9,
   "metadata": {},
   "outputs": [
    {
     "data": {
      "text/plain": [
       "Index(['STMANYYR', 'SEDANYFLAG', 'SEDANYYR', 'PSYANYFLAG', 'PSYANYYR',\n",
       "       'COLDFLGR', 'COLDYRR', 'COLDMONR', 'RSKCIGPKD', 'RSKMRJMON', 'RSKMRJWK',\n",
       "       'RSKLSDTRY', 'RSKLSDWK', 'RSKHERTRY', 'RSKHERWK', 'RSKCOCMON',\n",
       "       'RSKCOCWK', 'RSKBNGDLY', 'RSKBNGWK', 'DIFGETMRJ'],\n",
       "      dtype='object')"
      ]
     },
     "execution_count": 9,
     "metadata": {},
     "output_type": "execute_result"
    }
   ],
   "source": [
    "df0.axes[1][20:40]\n",
    "\"\"\"\n",
    "'RSKCIGPKD',\n",
    "'RSKMRJMON', \n",
    "'RSKMRJWK',\n",
    "'RSKLSDTRY', \n",
    "'RSKLSDWK', \n",
    "'RSKHERTRY', \n",
    "'RSKHERWK', \n",
    "'RSKCOCMON',\n",
    "'RSKCOCWK', \n",
    "'RSKBNGDLY', \n",
    "'RSKBNGWK',\n",
    "'DIFGETMRJ',\n",
    "\n",
    "1. 94,97,98 = NAN\n",
    "2. one hot encoding\n",
    "\"\"\""
   ]
  },
  {
   "cell_type": "code",
   "execution_count": 34,
   "metadata": {},
   "outputs": [
    {
     "data": {
      "text/plain": [
       "\"\\n'DIFGETLSD'\\n'DIFGETCOC', \\n'DIFGETCRK', \\n'DIFGETHER', \\n'APPDRGMON',\\n'RSKYFQDGR', \\n'RSKYFQTES', \\n'RKFQPBLT', \\n'RKFQDBLT'\\n\\n1. 94,97,98 = NAN\\n2. onehot\\n\\n\\n'CIGIRTBL',\\n'CIGCRAVE', \\n'CIGCRAGP', \\n'CIGINCTL', \\n'CIGAVOID', \\n'CIGFNSMK', \\n'CIGFNLKE',\\n'CIGPLANE', \\n'CIGRNOUT', \\n'CIGREGDY', \\n'CIGREGWK'\\n\\n1. 85,91,93,94,97,98 = NAN\\n2. onehot\\n\\n\\n\""
      ]
     },
     "execution_count": 34,
     "metadata": {},
     "output_type": "execute_result"
    }
   ],
   "source": [
    "df0.axes[1][40:60]\n",
    "\n",
    "\"\"\"\n",
    "'DIFGETLSD'\n",
    "'DIFGETCOC', \n",
    "'DIFGETCRK', \n",
    "'DIFGETHER', \n",
    "'APPDRGMON',\n",
    "'RSKYFQDGR', \n",
    "'RSKYFQTES', \n",
    "'RKFQPBLT', \n",
    "'RKFQDBLT'\n",
    "\n",
    "1. 94,97,98 = NAN\n",
    "2. onehot\n",
    "\n",
    "-------------------------------\n",
    "\n",
    "'CIGIRTBL',\n",
    "'CIGCRAVE', \n",
    "'CIGCRAGP', \n",
    "'CIGINCTL', \n",
    "'CIGAVOID', \n",
    "'CIGFNSMK', \n",
    "'CIGFNLKE',\n",
    "'CIGPLANE', \n",
    "'CIGRNOUT', \n",
    "'CIGREGDY', \n",
    "'CIGREGWK'\n",
    "\n",
    "1. 85,91,93,94,97,98 = NAN\n",
    "2. onehot\n",
    "\n",
    "\n",
    "\"\"\""
   ]
  },
  {
   "cell_type": "code",
   "execution_count": 36,
   "metadata": {},
   "outputs": [
    {
     "data": {
      "text/plain": [
       "\"\\n---FOR ALL\\n1. 85,94,97,98,99,985,994,997,998,999 = NAN\\n\\n\\n---ONLY FOR:\\n\\n'HPQTTOB', \\n'HPALCAMT',\\n'HPALCFRQ', \\n'HPALCPRB', \\n'HPALCCUT', \\n'HPALCTX'\\n\\n1. 91,93 = 2\\n\\n\""
      ]
     },
     "execution_count": 36,
     "metadata": {},
     "output_type": "execute_result"
    }
   ],
   "source": [
    "df0.axes[1][60:80]\n",
    "\n",
    "\"\"\"\n",
    "---FOR ALL\n",
    "1. 85,94,97,98,99,985,994,997,998,999 = NAN\n",
    "\n",
    "\n",
    "---ONLY FOR:\n",
    "\n",
    "'HPQTTOB', \n",
    "'HPALCAMT',\n",
    "'HPALCFRQ', \n",
    "'HPALCPRB', \n",
    "'HPALCCUT', \n",
    "'HPALCTX'\n",
    "\n",
    "1. 91,93 = 2\n",
    "\n",
    "\"\"\""
   ]
  },
  {
   "cell_type": "code",
   "execution_count": null,
   "metadata": {},
   "outputs": [],
   "source": []
  },
  {
   "cell_type": "code",
   "execution_count": null,
   "metadata": {},
   "outputs": [],
   "source": []
  },
  {
   "cell_type": "code",
   "execution_count": null,
   "metadata": {},
   "outputs": [],
   "source": []
  },
  {
   "cell_type": "code",
   "execution_count": null,
   "metadata": {},
   "outputs": [],
   "source": []
  },
  {
   "cell_type": "code",
   "execution_count": null,
   "metadata": {},
   "outputs": [],
   "source": []
  },
  {
   "cell_type": "code",
   "execution_count": null,
   "metadata": {},
   "outputs": [],
   "source": []
  }
 ],
 "metadata": {
  "kernelspec": {
   "display_name": "Python 3",
   "language": "python",
   "name": "python3"
  },
  "language_info": {
   "codemirror_mode": {
    "name": "ipython",
    "version": 3
   },
   "file_extension": ".py",
   "mimetype": "text/x-python",
   "name": "python",
   "nbconvert_exporter": "python",
   "pygments_lexer": "ipython3",
   "version": "3.7.3"
  }
 },
 "nbformat": 4,
 "nbformat_minor": 2
}
